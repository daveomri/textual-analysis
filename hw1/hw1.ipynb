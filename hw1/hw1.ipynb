{
 "cells": [
  {
   "cell_type": "code",
   "execution_count": null,
   "metadata": {},
   "outputs": [],
   "source": []
  },
  {
   "cell_type": "markdown",
   "metadata": {},
   "source": [
    "David Omrai\n",
    "20.3.2022\n",
    "\n",
    "Data a parametry\n",
    "Každý z datových souborů reprezentuje prvních cca 1000 slov nějaké anglické knihy.\n",
    "\n",
    "!  V prvním řádku se vždy nachází informace o knize a autorovi  (tanto řádek pro analýzu ignorujte).\n",
    "\n",
    "! V některých textech se nevyskytují všechny znaky anglické abecedy. To může být pro některé úlohy problém a je třeba se k němu postavit čelem! Může pomoct prohození souborů (tj. označení první a druhy), nebo přidání nevyskytujícího se znaku s nulovou pravděpodobností.\n",
    "\n",
    "\n",
    "Zadání úlohy\n",
    "1) Z obou datových souborů načtěte texty k analýze. Pro každý text zvlášť odhadněte pravděpodobnosti znaků (symbolů všetně mezery), které se v textech vyskytují. Výsledné pravděpodobnosti graficky znázorněte. \n",
    "2) Pro každý text zvlášť spočtěte entropii odhadnutého rozdělení znaků.\n",
    "3) Nalezněte optimální binární instantní kód C pro kódování znaků prvního z textů.\n",
    "4) Pro každý text zvlášť spočtěte střední délku kódu C a porovnejte ji s entropií rozdělení znaků. Je kód C optimální i pro druhý text?"
   ]
  },
  {
   "cell_type": "code",
   "execution_count": null,
   "metadata": {},
   "outputs": [],
   "source": [
    "# Libraries\n",
    "import scipy\n",
    "import numpy"
   ]
  },
  {
   "cell_type": "code",
   "execution_count": 1,
   "metadata": {},
   "outputs": [],
   "source": [
    "# Load proper data file\n",
    "# day of birth\n",
    "K = 9\n",
    "# last name length\n",
    "L = len(\"Omrai\")\n",
    "X = ((K*L*23) % (20)) + 1\n",
    "Y  = ((X + ((K*5 + L*7) % (19))) % (20)) + 1\n",
    "\n",
    "file_name_x = f\"{X:0=3d}.txt\"\n",
    "file_name_y = f\"{Y:0=3d}.txt\"\n",
    "file_loc = \"../hw1-source\"\n",
    "\n",
    "def read_file(file_path):\n",
    "    with open(file_path, 'r') as file:\n",
    "        return file.read()\n",
    "\n",
    "file_x = read_file(\"{}/{}\".format(file_loc, file_name_x))\n",
    "file_y = read_file(\"{}/{}\".format(file_loc, file_name_y))\n",
    "\n",
    "data_x = {}\n",
    "data_y = {}\n",
    "\n",
    "data_x[\"name\"] = file_x.partition('\\n')[0]\n",
    "data_x[\"text\"] = file_x[len(data_x[\"name\"])+1:].strip().replace('\\n', ' ')\n",
    "\n",
    "data_y[\"name\"] = file_y.partition('\\n')[0]\n",
    "data_y[\"text\"] = file_y[len(data_y[\"name\"])+1:].strip().replace('\\n', ' ')"
   ]
  },
  {
   "cell_type": "code",
   "execution_count": 2,
   "metadata": {},
   "outputs": [],
   "source": [
    "#1\n",
    "\n",
    "# get just unique characters from texts\n",
    "# uniq_chars_x = ''.join(set(data_x[\"text\"]))\n",
    "# uniq_chars_y = ''.join(set(data_y[\"text\"]))"
   ]
  },
  {
   "cell_type": "code",
   "execution_count": 7,
   "metadata": {},
   "outputs": [],
   "source": [
    "# Count the characters occurrence\n",
    "def count_characters(text):\n",
    "    chars_num = {}\n",
    "    for i in text:\n",
    "        if i not in chars_num.keys():\n",
    "            chars_num[i] = {}\n",
    "            chars_num[i][\"num\"] = 1\n",
    "        else:\n",
    "            chars_num[i][\"num\"] += 1\n",
    "\n",
    "    text_len = len(text)\n",
    "    for i in chars_num.keys():\n",
    "        chars_num[i][\"prob\"] = chars_num[i][\"num\"] / text_len\n",
    "\n",
    "    return chars_num"
   ]
  },
  {
   "cell_type": "code",
   "execution_count": 8,
   "metadata": {},
   "outputs": [],
   "source": [
    "uniq_num_x = count_characters(data_x[\"text\"])\n",
    "uniq_num_y = count_characters(data_y[\"text\"])"
   ]
  },
  {
   "cell_type": "code",
   "execution_count": 9,
   "metadata": {},
   "outputs": [
    {
     "name": "stdout",
     "output_type": "stream",
     "text": [
      "dict_keys(['t', 'h', 'e', ' ', 'r', 'p', 'u', 'b', 'l', 'i', 'c', 's', 'o', 'n', 'f', 'd', 'a', 'g', 'w', 'm', 'y', 'k', 'v', 'q', 'j', 'x'])\n",
      "dict_keys(['t', 'h', 'e', ' ', 'c', 'i', 'l', 'd', 'r', 'n', 'a', 'm', 'p', 'o', 'f', 's', 'u', 'g', 'b', 'y', 'w', 'v', 'k', 'q', 'j', 'x', 'z'])\n"
     ]
    }
   ],
   "source": [
    "print(uniq_num_x.keys())\n",
    "print(uniq_num_y.keys())"
   ]
  },
  {
   "cell_type": "code",
   "execution_count": 16,
   "metadata": {},
   "outputs": [
    {
     "name": "stdout",
     "output_type": "stream",
     "text": [
      "{'t': {'num': 436, 'prob': 0.06751316196965004}, 'h': {'num': 337, 'prob': 0.05218333849489006}, 'e': {'num': 659, 'prob': 0.10204397646330134}, ' ': {'num': 1199, 'prob': 0.18566119541653764}, 'c': {'num': 102, 'prob': 0.015794363580055745}, 'i': {'num': 297, 'prob': 0.04598947042427996}, 'l': {'num': 249, 'prob': 0.03855682873954785}, 'd': {'num': 303, 'prob': 0.04691855063487148}, 'r': {'num': 350, 'prob': 0.05419634561783834}, 'n': {'num': 355, 'prob': 0.0549705791266646}, 'a': {'num': 438, 'prob': 0.06782285537318056}, 'm': {'num': 109, 'prob': 0.01687829049241251}, 'p': {'num': 91, 'prob': 0.014091049860637968}, 'o': {'num': 399, 'prob': 0.06178383400433571}, 'f': {'num': 137, 'prob': 0.02121399814183958}, 's': {'num': 291, 'prob': 0.04506039021368845}, 'u': {'num': 159, 'prob': 0.024620625580675133}, 'g': {'num': 141, 'prob': 0.021833384948900587}, 'b': {'num': 96, 'prob': 0.01486528336946423}, 'y': {'num': 83, 'prob': 0.01285227624651595}, 'w': {'num': 117, 'prob': 0.01811706410653453}, 'v': {'num': 30, 'prob': 0.004645401052957572}, 'k': {'num': 52, 'prob': 0.008052028491793125}, 'q': {'num': 6, 'prob': 0.0009290802105915144}, 'j': {'num': 15, 'prob': 0.002322700526478786}, 'x': {'num': 1, 'prob': 0.0001548467017652524}, 'z': {'num': 6, 'prob': 0.0009290802105915144}}\n"
     ]
    }
   ],
   "source": [
    "print(uniq_num_y)"
   ]
  }
 ],
 "metadata": {
  "interpreter": {
   "hash": "916dbcbb3f70747c44a77c7bcd40155683ae19c65e1c03b4aa3499c5328201f1"
  },
  "kernelspec": {
   "display_name": "Python 3.8.10 64-bit",
   "language": "python",
   "name": "python3"
  },
  "language_info": {
   "codemirror_mode": {
    "name": "ipython",
    "version": 3
   },
   "file_extension": ".py",
   "mimetype": "text/x-python",
   "name": "python",
   "nbconvert_exporter": "python",
   "pygments_lexer": "ipython3",
   "version": "3.8.10"
  },
  "orig_nbformat": 4
 },
 "nbformat": 4,
 "nbformat_minor": 2
}
