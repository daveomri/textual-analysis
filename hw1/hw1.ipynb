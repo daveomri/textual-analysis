{
 "cells": [
  {
   "cell_type": "code",
   "execution_count": null,
   "metadata": {},
   "outputs": [],
   "source": []
  },
  {
   "cell_type": "markdown",
   "metadata": {},
   "source": [
    "David Omrai\n",
    "20.3.2022\n",
    "\n",
    "Data a parametry\n",
    "Každý z datových souborů reprezentuje prvních cca 1000 slov nějaké anglické knihy.\n",
    "\n",
    "!  V prvním řádku se vždy nachází informace o knize a autorovi  (tanto řádek pro analýzu ignorujte).\n",
    "\n",
    "! V některých textech se nevyskytují všechny znaky anglické abecedy. To může být pro některé úlohy problém a je třeba se k němu postavit čelem! Může pomoct prohození souborů (tj. označení první a druhy), nebo přidání nevyskytujícího se znaku s nulovou pravděpodobností.\n",
    "\n",
    "\n",
    "Zadání úlohy\n",
    "1) Z obou datových souborů načtěte texty k analýze. Pro každý text zvlášť odhadněte pravděpodobnosti znaků (symbolů všetně mezery), které se v textech vyskytují. Výsledné pravděpodobnosti graficky znázorněte. \n",
    "2) Pro každý text zvlášť spočtěte entropii odhadnutého rozdělení znaků.\n",
    "3) Nalezněte optimální binární instantní kód C pro kódování znaků prvního z textů.\n",
    "4) Pro každý text zvlášť spočtěte střední délku kódu C a porovnejte ji s entropií rozdělení znaků. Je kód C optimální i pro druhý text?"
   ]
  },
  {
   "cell_type": "code",
   "execution_count": 218,
   "metadata": {},
   "outputs": [],
   "source": [
    "# Libraries\n",
    "import scipy\n",
    "import numpy\n",
    "import matplotlib.pyplot as plt"
   ]
  },
  {
   "cell_type": "code",
   "execution_count": 219,
   "metadata": {},
   "outputs": [],
   "source": [
    "# Load proper data file\n",
    "# day of birth\n",
    "K = 9\n",
    "# last name length\n",
    "L = len(\"Omrai\")\n",
    "X = ((K*L*23) % (20)) + 1\n",
    "Y  = ((X + ((K*5 + L*7) % (19))) % (20)) + 1\n",
    "\n",
    "file_name_x = f\"{X:0=3d}.txt\"\n",
    "file_name_y = f\"{Y:0=3d}.txt\"\n",
    "file_loc = \"../hw1-source\"\n",
    "\n",
    "def read_file(file_path):\n",
    "    with open(file_path, 'r') as file:\n",
    "        return file.read()\n",
    "\n",
    "file_x = read_file(\"{}/{}\".format(file_loc, file_name_x))\n",
    "file_y = read_file(\"{}/{}\".format(file_loc, file_name_y))\n",
    "\n",
    "data_x = {}\n",
    "data_y = {}\n",
    "\n",
    "data_x[\"name\"] = file_x.partition('\\n')[0]\n",
    "data_x[\"text\"] = file_x[len(data_x[\"name\"])+1:].strip().replace('\\n', ' ')\n",
    "\n",
    "data_y[\"name\"] = file_y.partition('\\n')[0]\n",
    "data_y[\"text\"] = file_y[len(data_y[\"name\"])+1:].strip().replace('\\n', ' ')"
   ]
  },
  {
   "cell_type": "code",
   "execution_count": 220,
   "metadata": {},
   "outputs": [],
   "source": [
    "#1\n",
    "\n",
    "# get just unique characters from texts\n",
    "# uniq_chars_x = ''.join(set(data_x[\"text\"]))\n",
    "# uniq_chars_y = ''.join(set(data_y[\"text\"]))"
   ]
  },
  {
   "cell_type": "code",
   "execution_count": 221,
   "metadata": {},
   "outputs": [],
   "source": [
    "# Count the characters occurrence\n",
    "def count_characters(text):\n",
    "    chars_num = {}\n",
    "    for i in text:\n",
    "        if i not in chars_num.keys():\n",
    "            chars_num[i] = {}\n",
    "            chars_num[i][\"num\"] = 1\n",
    "            chars_num[i][\"key\"] = i\n",
    "        else:\n",
    "            chars_num[i][\"num\"] += 1\n",
    "\n",
    "    text_len = len(text)\n",
    "    for i in chars_num.keys():\n",
    "        chars_num[i][\"prob\"] = chars_num[i][\"num\"] / text_len\n",
    "\n",
    "    return chars_num"
   ]
  },
  {
   "cell_type": "code",
   "execution_count": 222,
   "metadata": {},
   "outputs": [],
   "source": [
    "uniq_num_x = count_characters(data_x[\"text\"])\n",
    "uniq_num_y = count_characters(data_y[\"text\"])"
   ]
  },
  {
   "cell_type": "code",
   "execution_count": 223,
   "metadata": {},
   "outputs": [
    {
     "name": "stdout",
     "output_type": "stream",
     "text": [
      "dict_keys(['t', 'h', 'e', ' ', 'r', 'p', 'u', 'b', 'l', 'i', 'c', 's', 'o', 'n', 'f', 'd', 'a', 'g', 'w', 'm', 'y', 'k', 'v', 'q', 'j', 'x'])\n",
      "dict_keys(['t', 'h', 'e', ' ', 'c', 'i', 'l', 'd', 'r', 'n', 'a', 'm', 'p', 'o', 'f', 's', 'u', 'g', 'b', 'y', 'w', 'v', 'k', 'q', 'j', 'x', 'z'])\n"
     ]
    }
   ],
   "source": [
    "print(uniq_num_x.keys())\n",
    "print(uniq_num_y.keys())"
   ]
  },
  {
   "cell_type": "code",
   "execution_count": 224,
   "metadata": {},
   "outputs": [],
   "source": [
    "# Add the rest of english characters\n",
    "eng_chars = ['a', 'b', 'c', 'd', 'e', 'f', 'g', 'h', 'i', 'j', 'k', 'l', 'm', 'n', 'o', 'p', 'q', 'r', 's', 't', 'u', 'v', 'w', 'x', 'y', 'z']\n",
    "\n",
    "def add_missing_chars(chars, uniq_dict):\n",
    "    for char in chars:\n",
    "        if (char not in uniq_dict.keys()):\n",
    "            uniq_dict[char] = {}\n",
    "            uniq_dict[char][\"num\"] = 0\n",
    "            uniq_dict[char][\"prob\"] = 0.0\n",
    "            uniq_dict[char][\"key\"] = char\n",
    "\n",
    "add_missing_chars(eng_chars, uniq_num_x)\n",
    "add_missing_chars(eng_chars, uniq_num_y)\n",
    "\n",
    "add_missing_chars(uniq_num_x.keys(), uniq_num_y)\n",
    "add_missing_chars(uniq_num_y.keys(), uniq_num_x)\n",
    "\n"
   ]
  },
  {
   "cell_type": "code",
   "execution_count": 225,
   "metadata": {},
   "outputs": [],
   "source": [
    "# Plot the probabilities\n",
    "names_x = list(uniq_num_x.keys())\n",
    "values_x = list(value[\"prob\"] for value in uniq_num_x.values())\n",
    "names_y = list(uniq_num_y.keys())\n",
    "values_y = list(value[\"prob\"] for value in uniq_num_y.values())"
   ]
  },
  {
   "cell_type": "code",
   "execution_count": 226,
   "metadata": {},
   "outputs": [
    {
     "data": {
      "text/plain": [
       "Text(0.5, 0.98, 'Symbols probabilities')"
      ]
     },
     "execution_count": 226,
     "metadata": {},
     "output_type": "execute_result"
    },
    {
     "data": {
      "image/png": "[encoded data removed]",
      "text/plain": [
       "<Figure size 1080x360 with 2 Axes>"
      ]
     },
     "metadata": {
      "needs_background": "light"
     },
     "output_type": "display_data"
    }
   ],
   "source": [
    "fig, axs = plt.subplots(1, 2, figsize=(15, 5), sharey=True)\n",
    "axs[0].bar(names_x, values_x)\n",
    "axs[0].title.set_text(data_x[\"name\"])\n",
    "axs[1].bar(names_y, values_y)\n",
    "axs[1].title.set_text(data_y[\"name\"])\n",
    "fig.suptitle('Symbols probabilities')"
   ]
  },
  {
   "cell_type": "code",
   "execution_count": 227,
   "metadata": {},
   "outputs": [],
   "source": [
    "# Entropy\n",
    "def get_entropy(probs):\n",
    "    sum = 0\n",
    "    for prob in probs:\n",
    "        if prob != 0.0:\n",
    "            sum += prob*numpy.log2(prob) # bits\n",
    "    return -sum"
   ]
  },
  {
   "cell_type": "code",
   "execution_count": 228,
   "metadata": {},
   "outputs": [
    {
     "name": "stdout",
     "output_type": "stream",
     "text": [
      "The Republic, by Plato\n",
      "H(X) = 4.041276204320588\n",
      "\n",
      "\n",
      "Pierrot, Dog of Belgium, by Walter A. Dyer\n",
      "H(X) = 4.0946897287085235\n"
     ]
    }
   ],
   "source": [
    "print(\"{}\\nH(X) = {}\".format(\n",
    "    data_x[\"name\"], \n",
    "    get_entropy([value[\"prob\"] for value in uniq_num_x.values()])\n",
    "    )\n",
    ")\n",
    "print('\\n')\n",
    "print(\"{}\\nH(X) = {}\".format(\n",
    "    data_y[\"name\"], \n",
    "    get_entropy([value[\"prob\"] for value in uniq_num_y.values()])\n",
    "    )\n",
    ")"
   ]
  },
  {
   "cell_type": "code",
   "execution_count": 229,
   "metadata": {},
   "outputs": [],
   "source": [
    "# Huffman code \n",
    "def get_text_code(char_list):\n",
    "    if len(char_list) == 1:\n",
    "        char_list[0][\"code\"] = ''\n",
    "        return\n",
    "    \n",
    "    # Sort list asc\n",
    "    char_list.sort(key=lambda x:x[\"num\"], reverse=True)\n",
    "\n",
    "    # Find two smalest\n",
    "    sm_a = char_list.pop()\n",
    "    sm_b = char_list.pop()\n",
    "\n",
    "    nw_elem = {}\n",
    "    nw_elem[\"num\"] = sm_a[\"num\"] + sm_b[\"num\"]\n",
    "    nw_elem[\"prob\"] = sm_a[\"prob\"] + sm_b[\"prob\"]\n",
    "\n",
    "    # Add to array\n",
    "    char_list.append(nw_elem)\n",
    "\n",
    "    # Another step\n",
    "    get_text_code(char_list)\n",
    "\n",
    "\n",
    "    # Create code\n",
    "    sm_a[\"code\"] = nw_elem[\"code\"] + '1'\n",
    "    sm_b[\"code\"] = nw_elem[\"code\"] + '0'\n",
    "\n",
    "    # Remove and append\n",
    "    char_list.remove(nw_elem)\n",
    "    char_list.append(sm_b)\n",
    "    char_list.append(sm_a)"
   ]
  },
  {
   "cell_type": "code",
   "execution_count": 238,
   "metadata": {},
   "outputs": [
    {
     "name": "stdout",
     "output_type": "stream",
     "text": [
      "[{' ': '11'}, {'e': '101'}, {'a': '0011'}, {'t': '0100'}, {'o': '0101'}, {'h': '1000'}, {'s': '1001'}, {'i': '00000'}, {'n': '00001'}, {'r': '00011'}, {'d': '01100'}, {'l': '01101'}, {'u': '01110'}, {'c': '000100'}, {'m': '000101'}, {'w': '001000'}, {'y': '001001'}, {'f': '001011'}, {'p': '011110'}, {'g': '011111'}, {'b': '0010101'}, {'v': '00101000'}, {'k': '001010010'}, {'q': '0010100110'}, {'j': '00101001110'}, {'x': '001010011110'}, {'z': '001010011111'}]\n"
     ]
    }
   ],
   "source": [
    "codes_x = [value for value in uniq_num_x.values()]\n",
    "get_text_code(codes_x)\n",
    "print([{value[\"key\"]: value[\"code\"]} for value in codes_x])"
   ]
  },
  {
   "cell_type": "code",
   "execution_count": 231,
   "metadata": {},
   "outputs": [],
   "source": [
    "# Plot the codes length\n",
    "names_x = [value[\"key\"] for value in codes_x]\n",
    "values_x = [value[\"prob\"] for value in codes_x]\n",
    "names_y = [value[\"key\"] for value in codes_x]\n",
    "values_y = [len(value[\"code\"]) for value in codes_x]\n"
   ]
  },
  {
   "cell_type": "code",
   "execution_count": 232,
   "metadata": {},
   "outputs": [
    {
     "data": {
      "text/plain": [
       "Text(0.5, 0.98, 'The Republic, by Plato')"
      ]
     },
     "execution_count": 232,
     "metadata": {},
     "output_type": "execute_result"
    },
    {
     "data": {
      "image/png": "[encoded data removed]",
      "text/plain": [
       "<Figure size 1080x360 with 2 Axes>"
      ]
     },
     "metadata": {
      "needs_background": "light"
     },
     "output_type": "display_data"
    }
   ],
   "source": [
    "fig, axs = plt.subplots(1, 2, figsize=(15, 5))\n",
    "axs[0].bar(names_x, values_x)\n",
    "axs[0].title.set_text(\"Keys probabilities\")\n",
    "axs[1].bar(names_y, values_y)\n",
    "axs[1].title.set_text(\"Codes length\")\n",
    "fig.suptitle(data_x[\"name\"])"
   ]
  },
  {
   "cell_type": "code",
   "execution_count": 233,
   "metadata": {},
   "outputs": [],
   "source": [
    "# Adding the code to second text\n",
    "for code_x in codes_x:\n",
    "    uniq_num_y[code_x[\"key\"]][\"code\"] = code_x[\"code\"]\n",
    "\n",
    "codes_y = [value for value in uniq_num_y.values()]\n",
    "codes_y.sort(key=lambda x:x[\"num\"], reverse=True)"
   ]
  },
  {
   "cell_type": "code",
   "execution_count": 234,
   "metadata": {},
   "outputs": [],
   "source": [
    "# Plot the codes length\n",
    "names_x = [value[\"key\"] for value in codes_y]\n",
    "values_x = [value[\"prob\"] for value in codes_y]\n",
    "names_y = [value[\"key\"] for value in codes_y]\n",
    "values_y = [len(value[\"code\"]) for value in codes_y]"
   ]
  },
  {
   "cell_type": "code",
   "execution_count": 235,
   "metadata": {},
   "outputs": [
    {
     "data": {
      "text/plain": [
       "Text(0.5, 0.98, 'Pierrot, Dog of Belgium, by Walter A. Dyer')"
      ]
     },
     "execution_count": 235,
     "metadata": {},
     "output_type": "execute_result"
    },
    {
     "data": {
      "image/png": "[encoded data removed]",
      "text/plain": [
       "<Figure size 1080x360 with 2 Axes>"
      ]
     },
     "metadata": {
      "needs_background": "light"
     },
     "output_type": "display_data"
    }
   ],
   "source": [
    "fig, axs = plt.subplots(1, 2, figsize=(15, 5))\n",
    "axs[0].bar(names_x, values_x)\n",
    "axs[0].title.set_text(\"Keys probabilities\")\n",
    "axs[1].bar(names_y, values_y)\n",
    "axs[1].title.set_text(\"Codes length\")\n",
    "fig.suptitle(data_y[\"name\"])"
   ]
  },
  {
   "cell_type": "code",
   "execution_count": 236,
   "metadata": {},
   "outputs": [],
   "source": [
    "# L(C)\n",
    "def count_LC(codes_data):\n",
    "    L = 0\n",
    "    for code_data in codes_data:\n",
    "        L += len(code_data[\"code\"])*code_data[\"prob\"]\n",
    "    return L\n",
    "\n",
    "# Hd(X)\n",
    "def count_entropy(codes_data):\n",
    "    sum = 0\n",
    "    for code_data in codes_data:\n",
    "        if code_data[\"prob\"] != 0.0:\n",
    "            sum += code_data[\"prob\"]*numpy.log2(code_data[\"prob\"]) # bits\n",
    "    return -sum"
   ]
  },
  {
   "cell_type": "code",
   "execution_count": 239,
   "metadata": {},
   "outputs": [
    {
     "name": "stdout",
     "output_type": "stream",
     "text": [
      "The Republic, by Plato\n",
      "L(C) = 4.083071113908117\n",
      "Hd(X) = 4.041276204320588\n"
     ]
    }
   ],
   "source": [
    "# L(C) & Hd(X)\n",
    "print(\"{}\\nL(C) = {}\\nHd(X) = {}\".format(\n",
    "    data_x[\"name\"], count_LC(codes_x), \n",
    "    count_entropy(codes_x)\n",
    "    )\n",
    ")"
   ]
  },
  {
   "cell_type": "code",
   "execution_count": 241,
   "metadata": {},
   "outputs": [
    {
     "name": "stdout",
     "output_type": "stream",
     "text": [
      "Pierrot, Dog of Belgium, by Walter A. Dyer\n",
      "L(C) = 4.167389284608238\n",
      "Hd(X) = 4.0946897287085235\n"
     ]
    }
   ],
   "source": [
    "print(\"{}\\nL(C) = {}\\nHd(X) = {}\".format(\n",
    "    data_y[\"name\"], \n",
    "    count_LC(codes_y), count_entropy(codes_y)\n",
    "    )\n",
    ")"
   ]
  },
  {
   "cell_type": "code",
   "execution_count": 243,
   "metadata": {},
   "outputs": [
    {
     "name": "stdout",
     "output_type": "stream",
     "text": [
      "[{' ': '000'}, {'e': '101'}, {'a': '0100'}, {'t': '0101'}, {'o': '0110'}, {'n': '1000'}, {'r': '1001'}, {'h': '1100'}, {'d': '1101'}, {'i': '1111'}, {'s': '00100'}, {'l': '00110'}, {'u': '11100'}, {'g': '11101'}, {'f': '001010'}, {'w': '001011'}, {'m': '001111'}, {'c': '011100'}, {'b': '011101'}, {'p': '011110'}, {'y': '011111'}, {'k': '0011101'}, {'v': '00111000'}, {'j': '001110010'}, {'q': '0011100111'}, {'z': '00111001100'}, {'x': '00111001101'}]\n"
     ]
    }
   ],
   "source": [
    "# Optimal code for second text\n",
    "ocodes_y = [value for value in uniq_num_y.values()]\n",
    "get_text_code(ocodes_y)\n",
    "print([{value[\"key\"]: value[\"code\"]} for value in ocodes_y])"
   ]
  },
  {
   "cell_type": "code",
   "execution_count": 244,
   "metadata": {},
   "outputs": [],
   "source": [
    "# Plot the codes length\n",
    "names_x = [value[\"key\"] for value in ocodes_y]\n",
    "values_x = [value[\"prob\"] for value in ocodes_y]\n",
    "names_y = [value[\"key\"] for value in ocodes_y]\n",
    "values_y = [len(value[\"code\"]) for value in ocodes_y]"
   ]
  },
  {
   "cell_type": "code",
   "execution_count": 245,
   "metadata": {},
   "outputs": [
    {
     "data": {
      "text/plain": [
       "Text(0.5, 0.98, 'Pierrot, Dog of Belgium, by Walter A. Dyer')"
      ]
     },
     "execution_count": 245,
     "metadata": {},
     "output_type": "execute_result"
    },
    {
     "data": {
      "image/png": "[encoded data removed]",
      "text/plain": [
       "<Figure size 1080x360 with 2 Axes>"
      ]
     },
     "metadata": {
      "needs_background": "light"
     },
     "output_type": "display_data"
    }
   ],
   "source": [
    "fig, axs = plt.subplots(1, 2, figsize=(15, 5))\n",
    "axs[0].bar(names_x, values_x)\n",
    "axs[0].title.set_text(\"Keys probabilities\")\n",
    "axs[1].bar(names_y, values_y)\n",
    "axs[1].title.set_text(\"Codes length\")\n",
    "fig.suptitle(data_y[\"name\"])"
   ]
  },
  {
   "cell_type": "code",
   "execution_count": 247,
   "metadata": {},
   "outputs": [
    {
     "name": "stdout",
     "output_type": "stream",
     "text": [
      "Pierrot, Dog of Belgium, by Walter A. Dyer\n",
      "L(C) = 4.137503871167543\n",
      "Hd(X) = 4.0946897287085235\n"
     ]
    }
   ],
   "source": [
    "print(\"{}\\nL(C) = {}\\nHd(X) = {}\".format(\n",
    "    data_y[\"name\"], \n",
    "    count_LC(ocodes_y), count_entropy(ocodes_y)\n",
    "    )\n",
    ")"
   ]
  },
  {
   "cell_type": "code",
   "execution_count": null,
   "metadata": {},
   "outputs": [],
   "source": []
  }
 ],
 "metadata": {
  "interpreter": {
   "hash": "916dbcbb3f70747c44a77c7bcd40155683ae19c65e1c03b4aa3499c5328201f1"
  },
  "kernelspec": {
   "display_name": "Python 3.8.10 64-bit",
   "language": "python",
   "name": "python3"
  },
  "language_info": {
   "codemirror_mode": {
    "name": "ipython",
    "version": 3
   },
   "file_extension": ".py",
   "mimetype": "text/x-python",
   "name": "python",
   "nbconvert_exporter": "python",
   "pygments_lexer": "ipython3",
   "version": "3.8.10"
  },
  "orig_nbformat": 4
 },
 "nbformat": 4,
 "nbformat_minor": 2
}
