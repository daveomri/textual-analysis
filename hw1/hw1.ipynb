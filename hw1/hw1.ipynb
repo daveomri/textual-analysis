{
 "cells": [
  {
   "cell_type": "code",
   "execution_count": null,
   "metadata": {},
   "outputs": [],
   "source": []
  },
  {
   "cell_type": "markdown",
   "metadata": {},
   "source": [
    "David Omrai\n",
    "20.3.2022\n",
    "\n",
    "Data a parametry\n",
    "Každý z datových souborů reprezentuje prvních cca 1000 slov nějaké anglické knihy.\n",
    "\n",
    "!  V prvním řádku se vždy nachází informace o knize a autorovi  (tanto řádek pro analýzu ignorujte).\n",
    "\n",
    "! V některých textech se nevyskytují všechny znaky anglické abecedy. To může být pro některé úlohy problém a je třeba se k němu postavit čelem! Může pomoct prohození souborů (tj. označení první a druhy), nebo přidání nevyskytujícího se znaku s nulovou pravděpodobností.\n",
    "\n",
    "\n",
    "Zadání úlohy\n",
    "1) Z obou datových souborů načtěte texty k analýze. Pro každý text zvlášť odhadněte pravděpodobnosti znaků (symbolů všetně mezery), které se v textech vyskytují. Výsledné pravděpodobnosti graficky znázorněte. \n",
    "2) Pro každý text zvlášť spočtěte entropii odhadnutého rozdělení znaků.\n",
    "3) Nalezněte optimální binární instantní kód C pro kódování znaků prvního z textů.\n",
    "4) Pro každý text zvlášť spočtěte střední délku kódu C a porovnejte ji s entropií rozdělení znaků. Je kód C optimální i pro druhý text?"
   ]
  },
  {
   "cell_type": "code",
   "execution_count": 12,
   "metadata": {},
   "outputs": [],
   "source": [
    "# Libraries\n",
    "import scipy\n",
    "import numpy\n",
    "import matplotlib.pyplot as plt"
   ]
  },
  {
   "cell_type": "code",
   "execution_count": 13,
   "metadata": {},
   "outputs": [],
   "source": [
    "# Load proper data file\n",
    "# day of birth\n",
    "K = 9\n",
    "# last name length\n",
    "L = len(\"Omrai\")\n",
    "X = ((K*L*23) % (20)) + 1\n",
    "Y  = ((X + ((K*5 + L*7) % (19))) % (20)) + 1\n",
    "\n",
    "file_name_x = f\"{X:0=3d}.txt\"\n",
    "file_name_y = f\"{Y:0=3d}.txt\"\n",
    "file_loc = \"../hw1-source\"\n",
    "\n",
    "def read_file(file_path):\n",
    "    with open(file_path, 'r') as file:\n",
    "        return file.read()\n",
    "\n",
    "file_x = read_file(\"{}/{}\".format(file_loc, file_name_x))\n",
    "file_y = read_file(\"{}/{}\".format(file_loc, file_name_y))\n",
    "\n",
    "data_x = {}\n",
    "data_y = {}\n",
    "\n",
    "data_x[\"name\"] = file_x.partition('\\n')[0]\n",
    "data_x[\"text\"] = file_x[len(data_x[\"name\"])+1:].strip().replace('\\n', ' ')\n",
    "\n",
    "data_y[\"name\"] = file_y.partition('\\n')[0]\n",
    "data_y[\"text\"] = file_y[len(data_y[\"name\"])+1:].strip().replace('\\n', ' ')"
   ]
  },
  {
   "cell_type": "code",
   "execution_count": 14,
   "metadata": {},
   "outputs": [],
   "source": [
    "#1\n",
    "\n",
    "# get just unique characters from texts\n",
    "# uniq_chars_x = ''.join(set(data_x[\"text\"]))\n",
    "# uniq_chars_y = ''.join(set(data_y[\"text\"]))"
   ]
  },
  {
   "cell_type": "code",
   "execution_count": 15,
   "metadata": {},
   "outputs": [],
   "source": [
    "# Count the characters occurrence\n",
    "def count_characters(text):\n",
    "    chars_num = {}\n",
    "    for i in text:\n",
    "        if i not in chars_num.keys():\n",
    "            chars_num[i] = {}\n",
    "            chars_num[i][\"num\"] = 1\n",
    "        else:\n",
    "            chars_num[i][\"num\"] += 1\n",
    "\n",
    "    text_len = len(text)\n",
    "    for i in chars_num.keys():\n",
    "        chars_num[i][\"prob\"] = chars_num[i][\"num\"] / text_len\n",
    "\n",
    "    return chars_num"
   ]
  },
  {
   "cell_type": "code",
   "execution_count": 16,
   "metadata": {},
   "outputs": [],
   "source": [
    "uniq_num_x = count_characters(data_x[\"text\"])\n",
    "uniq_num_y = count_characters(data_y[\"text\"])"
   ]
  },
  {
   "cell_type": "code",
   "execution_count": 17,
   "metadata": {},
   "outputs": [
    {
     "name": "stdout",
     "output_type": "stream",
     "text": [
      "dict_keys(['t', 'h', 'e', ' ', 'r', 'p', 'u', 'b', 'l', 'i', 'c', 's', 'o', 'n', 'f', 'd', 'a', 'g', 'w', 'm', 'y', 'k', 'v', 'q', 'j', 'x'])\n",
      "dict_keys(['t', 'h', 'e', ' ', 'c', 'i', 'l', 'd', 'r', 'n', 'a', 'm', 'p', 'o', 'f', 's', 'u', 'g', 'b', 'y', 'w', 'v', 'k', 'q', 'j', 'x', 'z'])\n"
     ]
    }
   ],
   "source": [
    "print(uniq_num_x.keys())\n",
    "print(uniq_num_y.keys())"
   ]
  },
  {
   "cell_type": "code",
   "execution_count": 18,
   "metadata": {},
   "outputs": [],
   "source": [
    "# Add the rest of english characters\n",
    "eng_chars = ['a', 'b', 'c', 'd', 'e', 'f', 'g', 'h', 'i', 'j', 'k', 'l', 'm', 'n', 'o', 'p', 'q', 'r', 's', 't', 'u', 'v', 'w', 'x', 'y', 'z']\n",
    "\n",
    "def add_missing_chars(chars, uniq_dict):\n",
    "    for char in chars:\n",
    "        if (char not in uniq_dict.keys()):\n",
    "            uniq_dict[char] = {}\n",
    "            uniq_dict[char][\"num\"] = 0\n",
    "            uniq_dict[char][\"prob\"] = 0.0\n",
    "\n",
    "add_missing_chars(eng_chars, uniq_num_x)\n",
    "add_missing_chars(eng_chars, uniq_num_y)\n",
    "\n",
    "add_missing_chars(uniq_num_x.keys(), uniq_num_y)\n",
    "add_missing_chars(uniq_num_y.keys(), uniq_num_x)\n",
    "\n"
   ]
  },
  {
   "cell_type": "code",
   "execution_count": 19,
   "metadata": {},
   "outputs": [],
   "source": [
    "# Plot the probabilities\n",
    "names_x = list(uniq_num_x.keys())\n",
    "values_x = list(value[\"prob\"] for value in uniq_num_x.values())\n",
    "names_y = list(uniq_num_y.keys())\n",
    "values_y = list(value[\"prob\"] for value in uniq_num_y.values())"
   ]
  },
  {
   "cell_type": "code",
   "execution_count": 31,
   "metadata": {},
   "outputs": [
    {
     "data": {
      "text/plain": [
       "Text(0.5, 0.98, 'Symbols probabilities')"
      ]
     },
     "execution_count": 31,
     "metadata": {},
     "output_type": "execute_result"
    },
    {
     "data": {
      "image/png": "[encoded data removed]",
      "text/plain": [
       "<Figure size 1080x360 with 2 Axes>"
      ]
     },
     "metadata": {
      "needs_background": "light"
     },
     "output_type": "display_data"
    }
   ],
   "source": [
    "fig, axs = plt.subplots(1, 2, figsize=(15, 5), sharey=True)\n",
    "axs[0].bar(names_x, values_x)\n",
    "axs[0].title.set_text(data_x[\"name\"])\n",
    "axs[1].bar(names_y, values_y)\n",
    "axs[1].title.set_text(data_y[\"name\"])\n",
    "fig.suptitle('Symbols probabilities')"
   ]
  },
  {
   "cell_type": "code",
   "execution_count": 37,
   "metadata": {},
   "outputs": [],
   "source": [
    "# Entrophy\n",
    "def get_entrophy(probs):\n",
    "    sum = 0\n",
    "    for prob in probs:\n",
    "        if prob != 0.0:\n",
    "            sum += prob*numpy.log2(prob) # bits\n",
    "    return -sum"
   ]
  },
  {
   "cell_type": "code",
   "execution_count": 38,
   "metadata": {},
   "outputs": [
    {
     "name": "stdout",
     "output_type": "stream",
     "text": [
      "4.041276204320588\n",
      "4.0946897287085235\n"
     ]
    }
   ],
   "source": [
    "print(get_entrophy([value[\"prob\"] for value in uniq_num_x.values()]))\n",
    "print(get_entrophy([value[\"prob\"] for value in uniq_num_y.values()]))"
   ]
  },
  {
   "cell_type": "code",
   "execution_count": null,
   "metadata": {},
   "outputs": [],
   "source": []
  }
 ],
 "metadata": {
  "interpreter": {
   "hash": "916dbcbb3f70747c44a77c7bcd40155683ae19c65e1c03b4aa3499c5328201f1"
  },
  "kernelspec": {
   "display_name": "Python 3.8.10 64-bit",
   "language": "python",
   "name": "python3"
  },
  "language_info": {
   "codemirror_mode": {
    "name": "ipython",
    "version": 3
   },
   "file_extension": ".py",
   "mimetype": "text/x-python",
   "name": "python",
   "nbconvert_exporter": "python",
   "pygments_lexer": "ipython3",
   "version": "3.8.10"
  },
  "orig_nbformat": 4
 },
 "nbformat": 4,
 "nbformat_minor": 2
}
