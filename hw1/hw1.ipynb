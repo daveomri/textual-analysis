{
 "cells": [
  {
   "cell_type": "code",
   "execution_count": null,
   "metadata": {},
   "outputs": [],
   "source": []
  },
  {
   "cell_type": "markdown",
   "metadata": {},
   "source": [
    "David Omrai\n",
    "20.3.2022\n",
    "\n",
    "Data a parametry\n",
    "Každý z datových souborů reprezentuje prvních cca 1000 slov nějaké anglické knihy.\n",
    "\n",
    "!  V prvním řádku se vždy nachází informace o knize a autorovi  (tanto řádek pro analýzu ignorujte).\n",
    "\n",
    "! V některých textech se nevyskytují všechny znaky anglické abecedy. To může být pro některé úlohy problém a je třeba se k němu postavit čelem! Může pomoct prohození souborů (tj. označení první a druhy), nebo přidání nevyskytujícího se znaku s nulovou pravděpodobností.\n",
    "\n",
    "\n",
    "Zadání úlohy\n",
    "1) Z obou datových souborů načtěte texty k analýze. Pro každý text zvlášť odhadněte pravděpodobnosti znaků (symbolů všetně mezery), které se v textech vyskytují. Výsledné pravděpodobnosti graficky znázorněte. \n",
    "2) Pro každý text zvlášť spočtěte entropii odhadnutého rozdělení znaků.\n",
    "3) Nalezněte optimální binární instantní kód C pro kódování znaků prvního z textů.\n",
    "4) Pro každý text zvlášť spočtěte střední délku kódu C a porovnejte ji s entropií rozdělení znaků. Je kód C optimální i pro druhý text?"
   ]
  },
  {
   "cell_type": "code",
   "execution_count": null,
   "metadata": {},
   "outputs": [],
   "source": [
    "# Libraries\n",
    "import scipy\n",
    "import numpy"
   ]
  },
  {
   "cell_type": "code",
   "execution_count": 35,
   "metadata": {},
   "outputs": [],
   "source": [
    "# Load proper data file\n",
    "# day of birth\n",
    "K = 9\n",
    "# last name length\n",
    "L = len(\"Omrai\")\n",
    "X = ((K*L*23) % (20)) + 1\n",
    "Y  = ((X + ((K*5 + L*7) % (19))) % (20)) + 1\n",
    "\n",
    "file_name_x = f\"{X:0=3d}.txt\"\n",
    "file_name_y = f\"{Y:0=3d}.txt\"\n",
    "file_loc = \"../hw1-source\"\n",
    "\n",
    "def read_file(file_path):\n",
    "    with open(file_path, 'r') as file:\n",
    "        return file.read()\n",
    "\n",
    "file_x = read_file(\"{}/{}\".format(file_loc, file_name_x))\n",
    "file_y = read_file(\"{}/{}\".format(file_loc, file_name_y))\n",
    "\n",
    "data_x = {}\n",
    "data_y = {}\n",
    "\n",
    "data_x[\"name\"] = file_x.partition('\\n')[0]\n",
    "data_x[\"text\"] = file_x[len(data_x[\"name\"])+1:].strip().replace('\\n', ' ')\n",
    "\n",
    "data_y[\"name\"] = file_y.partition('\\n')[0]\n",
    "data_y[\"text\"] = file_y[len(data_y[\"name\"])+1:].strip().replace('\\n', ' ')"
   ]
  },
  {
   "cell_type": "code",
   "execution_count": 38,
   "metadata": {},
   "outputs": [],
   "source": [
    "#1\n",
    "\n",
    "# get just unique characters from texts\n",
    "uniq_chars_x = ''.join(set(data_x[\"text\"]))\n",
    "uniq_chars_y = ''.join(set(data_y[\"text\"]))"
   ]
  },
  {
   "cell_type": "code",
   "execution_count": 40,
   "metadata": {},
   "outputs": [],
   "source": [
    "# Count the characters occurrence\n",
    "def count_characters(text):\n",
    "    chars_num = {}\n",
    "    for i in text:\n",
    "        if i not in chars_num.keys():\n",
    "            chars_num[i] = 1\n",
    "        else:\n",
    "            chars_num[i] += 1\n",
    "\n",
    "    return chars_num"
   ]
  },
  {
   "cell_type": "code",
   "execution_count": 41,
   "metadata": {},
   "outputs": [],
   "source": [
    "uniq_num_x = count_characters(data_x[\"text\"])\n",
    "uniq_num_y = count_characters(data_y[\"text\"])"
   ]
  },
  {
   "cell_type": "code",
   "execution_count": 44,
   "metadata": {},
   "outputs": [
    {
     "name": "stdout",
     "output_type": "stream",
     "text": [
      "{'t': 453, 'h': 344, 'e': 638, ' ': 1249, 'r': 284, 'p': 91, 'u': 189, 'b': 58, 'l': 192, 'i': 321, 'c': 151, 's': 331, 'o': 427, 'n': 310, 'f': 100, 'd': 205, 'a': 455, 'g': 91, 'w': 132, 'm': 135, 'y': 131, 'k': 21, 'v': 36, 'q': 8, 'j': 2, 'x': 2}\n"
     ]
    }
   ],
   "source": []
  }
 ],
 "metadata": {
  "interpreter": {
   "hash": "916dbcbb3f70747c44a77c7bcd40155683ae19c65e1c03b4aa3499c5328201f1"
  },
  "kernelspec": {
   "display_name": "Python 3.8.10 64-bit",
   "language": "python",
   "name": "python3"
  },
  "language_info": {
   "codemirror_mode": {
    "name": "ipython",
    "version": 3
   },
   "file_extension": ".py",
   "mimetype": "text/x-python",
   "name": "python",
   "nbconvert_exporter": "python",
   "pygments_lexer": "ipython3",
   "version": "3.8.10"
  },
  "orig_nbformat": 4
 },
 "nbformat": 4,
 "nbformat_minor": 2
}
